{
 "cells": [
  {
   "cell_type": "markdown",
   "source": [
    "\n",
    "# Curvature\n"
   ],
   "metadata": {
    "collapsed": false,
    "pycharm": {
     "name": "#%% md\n"
    }
   }
  },
  {
   "cell_type": "code",
   "execution_count": 1,
   "outputs": [],
   "source": [
    "import principal_curvature as pc\n",
    "import utils\n",
    "import matplotlib.pyplot as plt"
   ],
   "metadata": {
    "collapsed": false,
    "pycharm": {
     "name": "#%%\n"
    }
   }
  },
  {
   "cell_type": "code",
   "execution_count": 2,
   "outputs": [],
   "source": [
    "train_dataset = utils.import_train(10000)"
   ],
   "metadata": {
    "collapsed": false,
    "pycharm": {
     "name": "#%%\n"
    }
   }
  },
  {
   "cell_type": "code",
   "execution_count": 3,
   "outputs": [
    {
     "data": {
      "text/plain": "ModelNet10(3991)"
     },
     "execution_count": 3,
     "metadata": {},
     "output_type": "execute_result"
    }
   ],
   "source": [
    "train_dataset"
   ],
   "metadata": {
    "collapsed": false,
    "pycharm": {
     "name": "#%%\n"
    }
   }
  },
  {
   "cell_type": "code",
   "execution_count": 4,
   "outputs": [],
   "source": [
    "point_cloud = train_dataset[1]  # 1000 = chair"
   ],
   "metadata": {
    "collapsed": false,
    "pycharm": {
     "name": "#%%\n"
    }
   }
  },
  {
   "cell_type": "code",
   "execution_count": 5,
   "outputs": [
    {
     "name": "stderr",
     "output_type": "stream",
     "text": [
      "/Users/paulhosek/PycharmProjects/GeometricDL/principal_curvature.py:43: UserWarning: Casting complex values to real discards the imaginary part (Triggered internally at /private/var/folders/sy/f16zz6x50xz3113nwtb9bvq00000gp/T/abs_9d63z49rj_/croot/pytorch_1681837279022/work/aten/src/ATen/native/Copy.cpp:250.)\n",
      "  eigenvalues = torch.linalg.eigvals(cov).to(torch.float)\n"
     ]
    }
   ],
   "source": [
    "k = 5\n",
    "knn_res = pc.k_nearest_neighbors(point_cloud.pos,k)\n",
    "curve_res = pc.principal_curvature(point_cloud.pos,knn_res)"
   ],
   "metadata": {
    "collapsed": false,
    "pycharm": {
     "name": "#%%\n"
    }
   }
  },
  {
   "cell_type": "code",
   "execution_count": 5,
   "outputs": [],
   "source": [],
   "metadata": {
    "collapsed": false,
    "pycharm": {
     "name": "#%%\n"
    }
   }
  },
  {
   "cell_type": "code",
   "execution_count": 6,
   "outputs": [],
   "source": [
    "point_cloud_curve = point_cloud.pos[curve_res > curve_res.mean()]\n"
   ],
   "metadata": {
    "collapsed": false,
    "pycharm": {
     "name": "#%%\n"
    }
   }
  },
  {
   "cell_type": "code",
   "execution_count": 7,
   "outputs": [
    {
     "data": {
      "text/plain": "<mpl_toolkits.mplot3d.art3d.Path3DCollection at 0x7f883b23afe0>"
     },
     "execution_count": 7,
     "metadata": {},
     "output_type": "execute_result"
    }
   ],
   "source": [
    "%matplotlib qt\n",
    "\n",
    "point_cloud_curve = point_cloud.pos[curve_res > curve_res.mean()]\n",
    "\n",
    "x = point_cloud_curve[:, 0]\n",
    "y = point_cloud_curve[:, 1]\n",
    "z = point_cloud_curve[:, 2]\n",
    "\n",
    "fig = plt.figure()\n",
    "ax = fig.add_subplot(111, projection='3d')\n",
    "ax.scatter(x, y, z, marker='.', alpha=.5)"
   ],
   "metadata": {
    "collapsed": false,
    "pycharm": {
     "name": "#%%\n"
    }
   }
  },
  {
   "cell_type": "code",
   "execution_count": 8,
   "outputs": [
    {
     "data": {
      "text/plain": "<mpl_toolkits.mplot3d.art3d.Path3DCollection at 0x7f8913ed2290>"
     },
     "execution_count": 8,
     "metadata": {},
     "output_type": "execute_result"
    }
   ],
   "source": [
    "# %matplotlib qt\n",
    "\n",
    "x = point_cloud.pos[:, 0]\n",
    "y = point_cloud.pos[:, 1]\n",
    "z = point_cloud.pos[:, 2]\n",
    "\n",
    "fig = plt.figure()\n",
    "ax = fig.add_subplot(111, projection='3d')\n",
    "ax.scatter(x, y, z, marker='.', alpha=.5, cmap=\"viridis\",c=curve_res)"
   ],
   "metadata": {
    "collapsed": false,
    "pycharm": {
     "name": "#%%\n"
    }
   }
  },
  {
   "cell_type": "code",
   "execution_count": 9,
   "outputs": [],
   "source": [
    "# %matplotlib qt\n",
    "\n",
    "\n",
    "x = point_cloud.pos[:, 0]\n",
    "y = point_cloud.pos[:, 1]\n",
    "z = point_cloud.pos[:, 2]\n",
    "# Create the first subplot\n",
    "fig, axes = plt.subplots(1, 2, figsize=(12, 6), subplot_kw={'projection': '3d'})\n",
    "\n",
    "# Plot the first scatter plot on the first subplot\n",
    "axes[0].scatter(x, y, z, marker='.', alpha=0.5, c=curve_res)\n",
    "\n",
    "\n",
    "# Select data for the second subplot\n",
    "point_cloud_curve = point_cloud.pos[curve_res > curve_res.mean()]\n",
    "x = point_cloud_curve[:, 0]\n",
    "y = point_cloud_curve[:, 1]\n",
    "z = point_cloud_curve[:, 2]\n",
    "sc = axes[1].scatter(x, y, z, marker='.', alpha=0.5)\n",
    "plt.axis('off')\n",
    "axes[0].set_axis_off()\n",
    "plt.subplots_adjust(wspace=0)\n",
    "axes[0].view_init(elev=30, azim=200)\n",
    "axes[1].view_init(elev=30, azim=200)\n",
    "plt.savefig(\"../data/point_cloud_curve_illustration.png\", bbox_inches=\"tight\", dpi=300)\n"
   ],
   "metadata": {
    "collapsed": false,
    "pycharm": {
     "name": "#%%\n"
    }
   }
  },
  {
   "cell_type": "code",
   "execution_count": 10,
   "outputs": [],
   "source": [
    "import scipy.stats as stats"
   ],
   "metadata": {
    "collapsed": false,
    "pycharm": {
     "name": "#%%\n"
    }
   }
  },
  {
   "cell_type": "code",
   "execution_count": 11,
   "outputs": [],
   "source": [
    "def interpolate_with_distribution(distribution, z_score):\n",
    "    # Calculate the left and right bounds based on the distribution\n",
    "    # Calculate the bias based on the z-score\n",
    "    # Perform linear interpolation\n",
    "\n",
    "\n",
    "    left_bound = distribution.ppf(0.025)\n",
    "    right_bound = distribution.ppf(0.975)\n",
    "    bias = stats.norm.cdf(z_score)\n",
    "    result = left_bound + (right_bound - left_bound) * bias\n",
    "    return result"
   ],
   "metadata": {
    "collapsed": false,
    "pycharm": {
     "name": "#%%\n"
    }
   }
  },
  {
   "cell_type": "code",
   "execution_count": 12,
   "outputs": [],
   "source": [
    "import principal_curvature\n",
    "import torch\n",
    "import numpy as np"
   ],
   "metadata": {
    "collapsed": false,
    "pycharm": {
     "name": "#%%\n"
    }
   }
  },
  {
   "cell_type": "code",
   "execution_count": 13,
   "outputs": [],
   "source": [
    "def max_curve_sampler(cloud,desired_num_points, k):\n",
    "    \"\"\"\n",
    "    Sample points with the highest curvature based on eigenvalues derived from their k-neighbourhood.\n",
    "\n",
    "    :param cloud: Tensor of shape (N, C) representing the point cloud data.\n",
    "    :param desired_num_points: Desired number of points to be sampled.\n",
    "    :param k: Number of nearest neighbors to consider for curvature computation.\n",
    "    :return: Tensor of shape (M,) containing the indices of the sampled points.\n",
    "    \"\"\"\n",
    "    if cloud.size(0) < k:\n",
    "        k = cloud.size(0)\n",
    "\n",
    "    knn_res = principal_curvature.k_nearest_neighbors(cloud, k)\n",
    "    curve_res = principal_curvature.principal_curvature(cloud, knn_res)\n",
    "    curve_idx_reordered = torch.argsort(curve_res)[:desired_num_points]\n",
    "    return curve_idx_reordered"
   ],
   "metadata": {
    "collapsed": false,
    "pycharm": {
     "name": "#%%\n"
    }
   }
  },
  {
   "cell_type": "markdown",
   "source": [
    "want a bias parameter that we can move continuously from only taking the most curved points vs taking only fps"
   ],
   "metadata": {
    "collapsed": false,
    "pycharm": {
     "name": "#%% md\n"
    }
   }
  },
  {
   "cell_type": "code",
   "execution_count": 14,
   "outputs": [],
   "source": [
    "def fps(points, n_samples):\n",
    "    \"\"\"\n",
    "    points: [N, 3] array containing the whole point cloud\n",
    "    n_samples: samples you want in the sampled point cloud typically << N\n",
    "    \"\"\"\n",
    "    points = np.array(points)\n",
    "\n",
    "    # Represent the points by their indices in points\n",
    "    points_left = np.arange(len(points)) # [P]\n",
    "\n",
    "    # Initialise an array for the sampled indices\n",
    "    sample_inds = np.zeros(n_samples, dtype='int') # [S]\n",
    "\n",
    "    # Initialise distances to inf\n",
    "    dists = np.ones_like(points_left) * float('inf') # [P]\n",
    "\n",
    "    # Select a point from points by its index, save it\n",
    "    selected = 0\n",
    "    sample_inds[0] = points_left[selected]\n",
    "\n",
    "    # Delete selected\n",
    "    points_left = np.delete(points_left, selected) # [P - 1]\n",
    "\n",
    "    # Iteratively select points for a maximum of n_samples\n",
    "    for i in range(1, n_samples):\n",
    "        # Find the distance to the last added point in selected\n",
    "        # and all the others\n",
    "        last_added = sample_inds[i-1]\n",
    "\n",
    "        dist_to_last_added_point = (\n",
    "            (points[last_added] - points[points_left])**2).sum(-1) # [P - i]\n",
    "\n",
    "        # If closer, updated distances\n",
    "        dists[points_left] = np.minimum(dist_to_last_added_point,\n",
    "                                        dists[points_left]) # [P - i]\n",
    "\n",
    "        selected = np.argmax(dists[points_left])\n",
    "        sample_inds[i] = points_left[selected]\n",
    "\n",
    "        points_left = np.delete(points_left, selected)\n",
    "\n",
    "    return points[sample_inds]"
   ],
   "metadata": {
    "collapsed": false,
    "pycharm": {
     "name": "#%%\n"
    }
   }
  }
 ],
 "metadata": {
  "kernelspec": {
   "display_name": "Python 3",
   "language": "python",
   "name": "python3"
  },
  "language_info": {
   "codemirror_mode": {
    "name": "ipython",
    "version": 2
   },
   "file_extension": ".py",
   "mimetype": "text/x-python",
   "name": "python",
   "nbconvert_exporter": "python",
   "pygments_lexer": "ipython2",
   "version": "2.7.6"
  }
 },
 "nbformat": 4,
 "nbformat_minor": 0
}