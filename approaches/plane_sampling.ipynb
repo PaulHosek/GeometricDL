{
 "cells": [
  {
   "cell_type": "markdown",
   "source": [
    "# Plane-based sampling\n",
    "- Idea:\n",
    "\n",
    "Approach 1:\n",
    "    - subsample using the radius again, construct a plane based on the centroid and 2 closest points -> deviation from this plane approximates curvature\n",
    "\n",
    "Approach 2:\n",
    "    - DO PCA to find normal vector\n",
    "\n",
    "A[\n",
    "\n",
    "\n",
    "- Flaws:\n",
    "    - depends on radius chosen\n"
   ],
   "metadata": {
    "collapsed": false,
    "pycharm": {
     "name": "#%% md\n"
    }
   }
  },
  {
   "cell_type": "code",
   "execution_count": 5,
   "outputs": [],
   "source": [
    "import utils\n",
    "import numpy as np\n",
    "import matplotlib.pyplot as plt\n",
    "import torch\n",
    "import torch.nn.functional as F"
   ],
   "metadata": {
    "collapsed": false,
    "pycharm": {
     "name": "#%%\n"
    }
   }
  },
  {
   "cell_type": "code",
   "execution_count": 17,
   "outputs": [],
   "source": [
    "train_dataset = utils.import_train(100_00)"
   ],
   "metadata": {
    "collapsed": false,
    "pycharm": {
     "name": "#%%\n"
    }
   }
  },
  {
   "cell_type": "code",
   "execution_count": 18,
   "outputs": [
    {
     "data": {
      "text/plain": "ModelNet10(3991)"
     },
     "execution_count": 18,
     "metadata": {},
     "output_type": "execute_result"
    }
   ],
   "source": [
    "train_dataset"
   ],
   "metadata": {
    "collapsed": false,
    "pycharm": {
     "name": "#%%\n"
    }
   }
  },
  {
   "cell_type": "code",
   "execution_count": 19,
   "outputs": [],
   "source": [
    "point_cloud = train_dataset[1]  # 1000 = chair"
   ],
   "metadata": {
    "collapsed": false,
    "pycharm": {
     "name": "#%%\n"
    }
   }
  },
  {
   "cell_type": "code",
   "execution_count": 20,
   "outputs": [],
   "source": [
    "utils.draw_pointcloud(point_cloud)"
   ],
   "metadata": {
    "collapsed": false,
    "pycharm": {
     "name": "#%%\n"
    }
   }
  },
  {
   "cell_type": "markdown",
   "source": [
    "Visualisation of neighbourhood function"
   ],
   "metadata": {
    "collapsed": false,
    "pycharm": {
     "name": "#%% md\n"
    }
   }
  },
  {
   "cell_type": "code",
   "execution_count": 21,
   "outputs": [],
   "source": [
    "point0 = point_cloud.pos[1]\n",
    "nr_points = len(point_cloud.pos)\n",
    "radius = .1\n",
    "neighbours0 = utils.find_neighborhood(point_cloud.pos, point0, radius)"
   ],
   "metadata": {
    "collapsed": false,
    "pycharm": {
     "name": "#%%\n"
    }
   }
  },
  {
   "cell_type": "code",
   "execution_count": 22,
   "outputs": [],
   "source": [
    "utils.draw_pointcloud_neighbour(point_cloud.pos, neighbours0, point0,radius,False)"
   ],
   "metadata": {
    "collapsed": false,
    "pycharm": {
     "name": "#%%\n"
    }
   }
  },
  {
   "cell_type": "markdown",
   "source": [
    "**Find KNN**\n",
    "\n",
    "- later maybe want homogenous neighbourhood instead"
   ],
   "metadata": {
    "collapsed": false,
    "pycharm": {
     "name": "#%% md\n"
    }
   }
  },
  {
   "cell_type": "code",
   "execution_count": 45,
   "outputs": [],
   "source": [
    "def k_nearest_neighbors_single(point_cloud, query_point, k):\n",
    "    # Calculate squared Euclidean distances between the query point and all points in the point cloud\n",
    "    distances = torch.linalg.vector_norm(point_cloud - query_point,dim=1, ord=2)\n",
    "\n",
    "    # Find the indices of the k nearest neighbors\n",
    "    _, indices = torch.topk(distances, k=k, largest=False)\n",
    "\n",
    "    # Retrieve the k nearest neighbors from the point cloud\n",
    "    nearest_neighbors = point_cloud[indices]\n",
    "\n",
    "    return nearest_neighbors"
   ],
   "metadata": {
    "collapsed": false,
    "pycharm": {
     "name": "#%%\n"
    }
   }
  },
  {
   "cell_type": "code",
   "execution_count": 98,
   "outputs": [
    {
     "data": {
      "text/plain": "tensor([[-0.7924,  0.8363, -0.3700],\n        [-0.7879,  0.8362, -0.3700],\n        [-0.7868,  0.8208, -0.3700]])"
     },
     "execution_count": 98,
     "metadata": {},
     "output_type": "execute_result"
    }
   ],
   "source": [
    "knn0 = k_nearest_neighbors_single(point_cloud.pos, point0,3) # includes point0 in res\n",
    "knn0"
   ],
   "metadata": {
    "collapsed": false,
    "pycharm": {
     "name": "#%%\n"
    }
   }
  },
  {
   "cell_type": "code",
   "execution_count": 51,
   "outputs": [],
   "source": [
    "%matplotlib qt\n",
    "x = point_cloud.pos[:, 0]\n",
    "y = point_cloud.pos[:, 1]\n",
    "z = point_cloud.pos[:, 2]\n",
    "\n",
    "fig = plt.figure()\n",
    "ax = fig.add_subplot(111, projection='3d')\n",
    "scatter = ax.scatter(x, y, z, marker='.', alpha=.01)\n",
    "ax.scatter(point0[0],point0[1],point0[2], color=\"green\")\n",
    "ax.scatter(knn0[:,0],knn0[:,1],knn0[:,2], color='red')\n",
    "ax.set_xlabel('X')\n",
    "ax.set_ylabel('Y')\n",
    "ax.set_zlabel('Z')\n",
    "ax.view_init(elev=30, azim=270)\n"
   ],
   "metadata": {
    "collapsed": false,
    "pycharm": {
     "name": "#%%\n"
    }
   }
  },
  {
   "cell_type": "markdown",
   "source": [
    "**Construct plane from 2 neighbours**"
   ],
   "metadata": {
    "collapsed": false,
    "pycharm": {
     "name": "#%% md\n"
    }
   }
  },
  {
   "cell_type": "code",
   "execution_count": 116,
   "outputs": [
    {
     "name": "stdout",
     "output_type": "stream",
     "text": [
      "Normal vector of the plane: [-0.40824829  0.81649658 -0.40824829]\n"
     ]
    }
   ],
   "source": [
    "import numpy as np\n",
    "\n",
    "def fit_plane(points):\n",
    "    # Formulate the data matrix\n",
    "    data_matrix = np.array(points)\n",
    "\n",
    "    # Center the data\n",
    "    centered_data = data_matrix - np.mean(data_matrix, axis=1)\n",
    "\n",
    "    # Perform PCA\n",
    "    _, _, V = np.linalg.svd(centered_data)\n",
    "\n",
    "    # Extract the eigenvectors\n",
    "    normal_vector = V[-1]\n",
    "\n",
    "    return normal_vector\n",
    "\n",
    "# Example points in 3D space\n",
    "points = [[1, 2, 3],\n",
    "          [4, 5, 6],\n",
    "          [7, 8, 9]]\n",
    "\n",
    "# Fit a plane through the points using PCA\n",
    "normal_vector = fit_plane(points)\n",
    "\n",
    "print(\"Normal vector of the plane:\", normal_vector)\n"
   ],
   "metadata": {
    "collapsed": false,
    "pycharm": {
     "name": "#%%\n"
    }
   }
  },
  {
   "cell_type": "code",
   "execution_count": 117,
   "outputs": [],
   "source": [
    "normal_vector = fit_plane(knn0)\n"
   ],
   "metadata": {
    "collapsed": false,
    "pycharm": {
     "name": "#%%\n"
    }
   }
  },
  {
   "cell_type": "code",
   "execution_count": 125,
   "outputs": [],
   "source": [
    "np_knn = np.array(knn0)"
   ],
   "metadata": {
    "collapsed": false,
    "pycharm": {
     "name": "#%%\n"
    }
   }
  },
  {
   "cell_type": "code",
   "execution_count": 248,
   "outputs": [
    {
     "data": {
      "text/plain": "array([-0.79075384, -0.20341235, -0.5773489 ], dtype=float32)"
     },
     "execution_count": 248,
     "metadata": {},
     "output_type": "execute_result"
    }
   ],
   "source": [
    "u, sigma, v = np.linalg.svd(np_knn - np.mean(np_knn, axis=1, keepdims=True))\n",
    "\n",
    "# Extract the left singular vectors\n",
    "normal = v[:,1]\n",
    "normal"
   ],
   "metadata": {
    "collapsed": false,
    "pycharm": {
     "name": "#%%\n"
    }
   }
  },
  {
   "cell_type": "code",
   "execution_count": 249,
   "outputs": [
    {
     "data": {
      "text/plain": "array([-0.79075384, -0.20341235, -0.5773489 ], dtype=float32)"
     },
     "execution_count": 249,
     "metadata": {},
     "output_type": "execute_result"
    }
   ],
   "source": [
    "normal\n"
   ],
   "metadata": {
    "collapsed": false,
    "pycharm": {
     "name": "#%%\n"
    }
   }
  },
  {
   "cell_type": "code",
   "execution_count": 250,
   "outputs": [
    {
     "data": {
      "text/plain": "array([-0.7924145 ,  0.83634365, -0.37003624], dtype=float32)"
     },
     "execution_count": 250,
     "metadata": {},
     "output_type": "execute_result"
    }
   ],
   "source": [
    "centroid = np.array(point0)\n",
    "centroid"
   ],
   "metadata": {
    "collapsed": false,
    "pycharm": {
     "name": "#%%\n"
    }
   }
  },
  {
   "cell_type": "code",
   "execution_count": 251,
   "outputs": [],
   "source": [
    "x_bound = (-0.7926955819129944, -0.7865114808082581)\n",
    "y_bound = (0.8200439155101776, 0.8371198236942291)"
   ],
   "metadata": {
    "collapsed": false,
    "pycharm": {
     "name": "#%%\n"
    }
   }
  },
  {
   "cell_type": "code",
   "execution_count": 252,
   "outputs": [
    {
     "data": {
      "text/plain": "(-0.4, -0.35)"
     },
     "execution_count": 252,
     "metadata": {},
     "output_type": "execute_result"
    }
   ],
   "source": [
    "fig = plt.figure()\n",
    "ax = fig.add_subplot(111, projection='3d')\n",
    "scatter = ax.scatter(knn0[:,0], knn0[:,1], knn0[:,2], marker='o', alpha=1)\n",
    "xx, yy = np.meshgrid(np.linspace(x_bound[0],x_bound[1],num=10), np.linspace(y_bound[0],y_bound[1],num=10))\n",
    "d = normal[0] * centroid[0] + normal[1] * centroid[1] + normal[2] * centroid[2]\n",
    "z = (-normal[0] * xx - normal[1] * yy + d) * 1. /normal[2]\n",
    "# Visualize the points and the plane\n",
    "plane = ax.plot_surface(xx, yy, z, alpha=0.3)\n",
    "# plane = ax.plot_surface(xx, yy, zz, alpha=0.3)\n",
    "ax.set_xlim(x_bound)\n",
    "ax.set_ylim(y_bound)\n",
    "ax.set_zlim((-.4,-.35))"
   ],
   "metadata": {
    "collapsed": false,
    "pycharm": {
     "name": "#%%\n"
    }
   }
  },
  {
   "cell_type": "code",
   "execution_count": null,
   "outputs": [],
   "source": [
    "################"
   ],
   "metadata": {
    "collapsed": false,
    "pycharm": {
     "name": "#%%\n"
    }
   }
  },
  {
   "cell_type": "code",
   "execution_count": 153,
   "outputs": [
    {
     "data": {
      "text/plain": "tensor([-0.2491, -0.3700, -0.2491,  ...,  0.0818, -0.0396, -0.3700])"
     },
     "execution_count": 153,
     "metadata": {},
     "output_type": "execute_result"
    }
   ],
   "source": [],
   "metadata": {
    "collapsed": false,
    "pycharm": {
     "name": "#%%\n"
    }
   }
  },
  {
   "cell_type": "code",
   "execution_count": 123,
   "outputs": [],
   "source": [],
   "metadata": {
    "collapsed": false,
    "pycharm": {
     "name": "#%%\n"
    }
   }
  },
  {
   "cell_type": "code",
   "execution_count": null,
   "outputs": [],
   "source": [],
   "metadata": {
    "collapsed": false,
    "pycharm": {
     "name": "#%%\n"
    }
   }
  },
  {
   "cell_type": "code",
   "execution_count": 14,
   "outputs": [],
   "source": [],
   "metadata": {
    "collapsed": false,
    "pycharm": {
     "name": "#%%\n"
    }
   }
  },
  {
   "cell_type": "code",
   "execution_count": 15,
   "outputs": [
    {
     "ename": "KeyboardInterrupt",
     "evalue": "",
     "output_type": "error",
     "traceback": [
      "\u001B[0;31m---------------------------------------------------------------------------\u001B[0m",
      "\u001B[0;31mKeyboardInterrupt\u001B[0m                         Traceback (most recent call last)",
      "Cell \u001B[0;32mIn[15], line 1\u001B[0m\n\u001B[0;32m----> 1\u001B[0m \u001B[38;5;28;01mraise\u001B[39;00m \u001B[38;5;167;01mKeyboardInterrupt\u001B[39;00m\n",
      "\u001B[0;31mKeyboardInterrupt\u001B[0m: "
     ]
    }
   ],
   "source": [
    "raise KeyboardInterrupt"
   ],
   "metadata": {
    "collapsed": false,
    "pycharm": {
     "name": "#%%\n"
    }
   }
  },
  {
   "cell_type": "markdown",
   "source": [
    "# NOTE: should be weighted average distance to plane as closer points are more relevant to the curvature around that point"
   ],
   "metadata": {
    "collapsed": false,
    "pycharm": {
     "name": "#%% md\n"
    }
   }
  },
  {
   "cell_type": "code",
   "execution_count": null,
   "outputs": [],
   "source": [
    "def calculate_average_distance(center_point, surrounding_points):\n",
    "    # Calculate Euclidean distances from the center point to all surrounding points\n",
    "    distances = np.linalg.norm(surrounding_points - center_point, axis=1)\n",
    "\n",
    "    # Sort distances and select the indices of the 2 closest points\n",
    "    closest_indices = np.argsort(distances)[:3]\n",
    "\n",
    "    # Select the 2 closest points\n",
    "    closest_points = surrounding_points[closest_indices]\n",
    "\n",
    "    # Construct the plane using the three closest points\n",
    "    v1 = closest_points[1] - closest_points[0]\n",
    "    v2 = closest_points[2] - closest_points[0]\n",
    "    normal_vector = np.cross(v1, v2)\n",
    "    print(closest_points)\n",
    "    print(normal_vector)\n",
    "    d = -np.dot(normal_vector, closest_points[0])\n",
    "\n",
    "    # Calculate the average distance from the plane for all surrounding points\n",
    "    distances_from_plane = np.abs(np.dot(surrounding_points, normal_vector) + d) / np.linalg.norm(normal_vector)\n",
    "    average_distance = np.mean(distances_from_plane)\n",
    "\n",
    "    return average_distance\n"
   ],
   "metadata": {
    "collapsed": false,
    "pycharm": {
     "name": "#%%\n"
    }
   }
  },
  {
   "cell_type": "code",
   "execution_count": null,
   "outputs": [],
   "source": [
    "distances = np.linalg.norm(neighbours0 - point0, axis=1)\n",
    "\n",
    "# Sort distances and select the indices of the three closest points\n",
    "closest_indices = np.argsort(distances)[:5]\n",
    "\n",
    "# Select the 2 closest points\n",
    "closest_points = neighbours0[closest_indices]"
   ],
   "metadata": {
    "collapsed": false,
    "pycharm": {
     "name": "#%%\n"
    }
   }
  },
  {
   "cell_type": "code",
   "execution_count": null,
   "outputs": [],
   "source": [
    "res = np.cross(closest_points[1], closest_points[0])\n",
    "x_range = np.linspace(closest_points[0][0] - radius, closest_points[0][1] + radius, 10)\n",
    "y_range = np.linspace(closest_points[0][1] - radius, closest_points[0][1] + radius, 10)\n",
    "x_plane, y_plane = np.meshgrid(x_range, y_range)\n",
    "\n",
    "z_plane = (-res[0] * x_plane - res[1] * y_plane)"
   ],
   "metadata": {
    "collapsed": false,
    "pycharm": {
     "name": "#%%\n"
    }
   }
  },
  {
   "cell_type": "code",
   "execution_count": null,
   "outputs": [],
   "source": [
    "print(closest_points)\n",
    "v1 = closest_points[2] - closest_points[0]\n",
    "v2 = closest_points[1] - closest_points[0]\n",
    "\n",
    "print(normal_vector)"
   ],
   "metadata": {
    "collapsed": false,
    "pycharm": {
     "name": "#%%\n"
    }
   }
  },
  {
   "cell_type": "code",
   "execution_count": null,
   "outputs": [],
   "source": [
    "def visualize_plane(center_point, surrounding_points,point_cloud, radius, limit_axis=False,elev=30,azim=100):\n",
    "    fig = plt.figure()\n",
    "    ax = fig.add_subplot(111, projection='3d')\n",
    "\n",
    "    # Scatter plot for surrounding points\n",
    "    ax.scatter(surrounding_points[:, 0], surrounding_points[:, 1], surrounding_points[:, 2], c='orange', label='Surrounding Points', alpha=0.1)\n",
    "\n",
    "    # Scatter plot for center point\n",
    "    ax.scatter(center_point[0], center_point[1], center_point[2], c='r', marker='o', label='Center Point',s=100)\n",
    "\n",
    "    # Scatter plot for point_cloud\n",
    "    x = point_cloud.pos[:, 0]\n",
    "    y = point_cloud.pos[:, 1]\n",
    "    z = point_cloud.pos[:, 2]\n",
    "\n",
    "    ax.scatter(x, y, z, marker='.', alpha=.01)\n",
    "\n",
    "    # Plane\n",
    "    distances = np.linalg.norm(surrounding_points - center_point, axis=1)\n",
    "\n",
    "    # Sort distances and select the indices of the 2 closest points\n",
    "    closest_indices = np.argsort(distances)[:3]\n",
    "\n",
    "    # Select the 2 closest points\n",
    "    closest_points = surrounding_points[closest_indices]\n",
    "\n",
    "    # Construct the plane using the three closest points\n",
    "    v1 = closest_points[1] - closest_points[0]\n",
    "    v2 = closest_points[2] - closest_points[0]\n",
    "    normal_vector = np.cross(v1, v2)\n",
    "    d = -np.dot(normal_vector, surrounding_points[0])\n",
    "    x_range = np.linspace(center_point[0]-radius, center_point[1]+radius, 10)\n",
    "    y_range = np.linspace(center_point[1]-radius, center_point[1]+radius, 10)\n",
    "    x_plane, y_plane = np.meshgrid(x_range, y_range)\n",
    "    z_plane = (-normal_vector[0] * x_plane - normal_vector[1] * y_plane - d)\n",
    "\n",
    "    # Plot the plane\n",
    "    ax.plot_surface(x_plane, y_plane, z_plane, alpha=0.3, color='g', label='Plane')\n",
    "\n",
    "    ax.set_xlabel('X')\n",
    "    ax.set_ylabel('Y')\n",
    "    ax.set_zlabel('Z')\n",
    "\n",
    "    # legend\n",
    "    scatter_proxy = plt.Line2D([0], [0], linestyle='none', c='b', marker='o')\n",
    "    plane_proxy = plt.Line2D([0], [0], linestyle='-', c='g')\n",
    "    center_proxy = plt.Line2D([0], [0], linestyle='none', c='r', marker='o')\n",
    "    ax.legend([scatter_proxy, plane_proxy, center_proxy], ['Surrounding Points', 'Plane', 'Center Point'])\n",
    "    ax.view_init(elev=elev, azim=azim)\n",
    "    x_min, x_max = center_point[0] - radius, center_point[0] + radius\n",
    "    y_min, y_max = center_point[1] - radius, center_point[1] + radius\n",
    "    z_min, z_max = center_point[2] - radius, center_point[2] + radius\n",
    "    if limit_axis:\n",
    "        ax.set_xlim([x_min, x_max])\n",
    "        ax.set_ylim([y_min, y_max])\n",
    "        ax.set_zlim([z_min, z_max])"
   ],
   "metadata": {
    "collapsed": false,
    "pycharm": {
     "name": "#%%\n"
    }
   }
  },
  {
   "cell_type": "code",
   "execution_count": null,
   "outputs": [],
   "source": [
    "%matplotlib qt\n",
    "visualize_plane(point0, neighbours0,point_cloud, radius,True)"
   ],
   "metadata": {
    "collapsed": false,
    "pycharm": {
     "name": "#%%\n"
    }
   }
  },
  {
   "cell_type": "code",
   "execution_count": null,
   "outputs": [],
   "source": [
    "calculate_average_distance(point0,neighbours0)"
   ],
   "metadata": {
    "collapsed": false,
    "pycharm": {
     "name": "#%%\n"
    }
   }
  },
  {
   "cell_type": "code",
   "execution_count": null,
   "outputs": [],
   "source": [
    "v1 = neighbours0[1] - neighbours0[0]\n",
    "v2 = neighbours0[2] - neighbours0[0]\n",
    "normal_vector = np.cross(v1, v2)\n",
    "d = -np.dot(normal_vector, neighbours0[0])\n",
    "x_range = np.linspace(neighbours0[0]-radius, point0[1]+radius, 10)\n",
    "y_range = np.linspace(neighbours0[1]-radius, point0[1]+radius, 10)\n",
    "x_plane, y_plane = np.meshgrid(x_range, y_range)\n",
    "z_plane = (-normal_vector[0] * x_plane - normal_vector[1] * y_plane - d) / normal_vector[2]\n"
   ],
   "metadata": {
    "collapsed": false,
    "pycharm": {
     "name": "#%%\n"
    }
   }
  },
  {
   "cell_type": "code",
   "execution_count": null,
   "outputs": [],
   "source": [
    "print(normal_vector)"
   ],
   "metadata": {
    "collapsed": false,
    "pycharm": {
     "name": "#%%\n"
    }
   }
  },
  {
   "cell_type": "code",
   "execution_count": null,
   "outputs": [],
   "source": [],
   "metadata": {
    "collapsed": false,
    "pycharm": {
     "name": "#%%\n"
    }
   }
  },
  {
   "cell_type": "code",
   "execution_count": null,
   "outputs": [],
   "source": [],
   "metadata": {
    "collapsed": false,
    "pycharm": {
     "name": "#%%\n"
    }
   }
  },
  {
   "cell_type": "code",
   "execution_count": null,
   "outputs": [],
   "source": [
    "utils.visualize_plane(point0, neighbours0,point_cloud, radius,True)"
   ],
   "metadata": {
    "collapsed": false,
    "pycharm": {
     "name": "#%%\n"
    }
   }
  },
  {
   "cell_type": "code",
   "execution_count": null,
   "outputs": [],
   "source": [],
   "metadata": {
    "collapsed": false,
    "pycharm": {
     "name": "#%%\n"
    }
   }
  }
 ],
 "metadata": {
  "kernelspec": {
   "display_name": "Python 3",
   "language": "python",
   "name": "python3"
  },
  "language_info": {
   "codemirror_mode": {
    "name": "ipython",
    "version": 2
   },
   "file_extension": ".py",
   "mimetype": "text/x-python",
   "name": "python",
   "nbconvert_exporter": "python",
   "pygments_lexer": "ipython2",
   "version": "2.7.6"
  }
 },
 "nbformat": 4,
 "nbformat_minor": 0
}