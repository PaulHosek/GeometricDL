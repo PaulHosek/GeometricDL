{
 "cells": [
  {
   "cell_type": "code",
   "execution_count": null,
   "metadata": {
    "collapsed": true,
    "pycharm": {
     "name": "#%%\n",
     "is_executing": true
    }
   },
   "outputs": [],
   "source": [
    "import os.path as osp\n",
    "import numpy as np\n",
    "import matplotlib.pyplot as plt\n",
    "from mpl_toolkits.mplot3d import Axes3D\n",
    "from torch_geometric.data import DataLoader\n",
    "from torch_geometric.datasets import ModelNet\n",
    "from torch_geometric.transforms import NormalizeScale, SamplePoints\n",
    "\n",
    "# Set the path to the dataset directory\n",
    "path = osp.join(osp.dirname(osp.realpath(__file__)), '..', 'data/ModelNet10')\n",
    "\n",
    "# Define the data transformations\n",
    "pre_transform, transform = NormalizeScale(), SamplePoints(128)  # Adjust the number of points to be sampled"
   ]
  },
  {
   "cell_type": "code",
   "execution_count": null,
   "outputs": [],
   "source": [
    "# Create the dataset\n",
    "dataset = ModelNet(path, '10', True, transform, pre_transform)\n",
    "\n",
    "# Select a point cloud from the dataset\n",
    "point_cloud, _ = dataset[0]  # Change the index to select a different point cloud\n",
    "\n",
    "# Extract the position data from the point cloud\n",
    "pos = point_cloud.pos.numpy()\n",
    "\n",
    "# Plot the point cloud using Matplotlib\n",
    "fig = plt.figure()\n",
    "ax = fig.add_subplot(111, projection='3d')\n",
    "ax.scatter(pos[:, 0], pos[:, 1], pos[:, 2])\n",
    "ax.set_xlabel('X')\n",
    "ax.set_ylabel('Y')\n",
    "ax.set_zlabel('Z')\n",
    "plt.show()"
   ],
   "metadata": {
    "collapsed": false,
    "pycharm": {
     "name": "#%%\n",
     "is_executing": true
    }
   }
  }
 ],
 "metadata": {
  "kernelspec": {
   "display_name": "Python 3",
   "language": "python",
   "name": "python3"
  },
  "language_info": {
   "codemirror_mode": {
    "name": "ipython",
    "version": 2
   },
   "file_extension": ".py",
   "mimetype": "text/x-python",
   "name": "python",
   "nbconvert_exporter": "python",
   "pygments_lexer": "ipython2",
   "version": "2.7.6"
  }
 },
 "nbformat": 4,
 "nbformat_minor": 0
}