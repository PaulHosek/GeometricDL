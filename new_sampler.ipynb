{
 "cells": [
  {
   "cell_type": "code",
   "execution_count": 1,
   "outputs": [],
   "source": [
    "import torch\n",
    "\n",
    "import principal_curvature as pc\n",
    "import utils\n",
    "import matplotlib.pyplot as plt\n",
    "import sampling_algs\n",
    "import math\n",
    "import getopt\n",
    "import os.path as osp\n",
    "import sys\n",
    "\n",
    "import torch\n",
    "import torch.nn.functional as F\n",
    "\n",
    "import torch_geometric.transforms as T\n",
    "from torch_geometric.datasets import ModelNet\n",
    "from torch_geometric.loader import DataLoader\n",
    "from torch_geometric.nn import MLP, PointNetConv, fps, global_max_pool, radius\n",
    "import sampling_algs\n",
    "import utils\n",
    "import time\n",
    "import csv\n",
    "import numpy as np\n",
    "\n",
    "import principal_curvature\n",
    "import numpy as np"
   ],
   "metadata": {
    "collapsed": false,
    "pycharm": {
     "name": "#%%\n"
    }
   }
  },
  {
   "cell_type": "code",
   "execution_count": 2,
   "outputs": [],
   "source": [
    "def weighted_fps():\n",
    "    \"some method that does fps but curvature weighted. with the prob(local curvautre) we choose that as the next point\"\n",
    "    # torch.bincount supports a weights parameter. Could make coordinate inputs and curvautre weights\n",
    "    pass"
   ],
   "metadata": {
    "collapsed": false,
    "pycharm": {
     "name": "#%%\n"
    }
   }
  },
  {
   "cell_type": "code",
   "execution_count": 36,
   "outputs": [
    {
     "data": {
      "text/plain": "16384"
     },
     "execution_count": 36,
     "metadata": {},
     "output_type": "execute_result"
    }
   ],
   "source": [
    "n_points = int(math.pow(2,14))\n",
    "train_dataset = utils.import_train(n_points)\n",
    "n_points"
   ],
   "metadata": {
    "collapsed": false,
    "pycharm": {
     "name": "#%%\n"
    }
   }
  },
  {
   "cell_type": "code",
   "execution_count": 37,
   "outputs": [],
   "source": [
    "h = 1\n",
    "cloud = train_dataset[h].pos\n",
    "ratio = .5\n",
    "bias = .99\n",
    "k = 10\n",
    "desired_num_points = int(cloud.size(0)*ratio)"
   ],
   "metadata": {
    "collapsed": false,
    "pycharm": {
     "name": "#%%\n"
    }
   }
  },
  {
   "cell_type": "code",
   "execution_count": 38,
   "outputs": [],
   "source": [
    "curvatures = principal_curvature.curvatures_knn(cloud, 10)"
   ],
   "metadata": {
    "collapsed": false,
    "pycharm": {
     "name": "#%%\n"
    }
   }
  },
  {
   "cell_type": "code",
   "execution_count": 74,
   "outputs": [],
   "source": [
    "import torch\n",
    "\n",
    "def compute_distances(points, reference_point):\n",
    "    return torch.norm(points - reference_point, dim=1)\n",
    "\n",
    "def fps_pure(points, num_points):\n",
    "    num_total_points = points.shape[0]\n",
    "    selected_indices = []\n",
    "    selected_mask = torch.zeros(num_total_points, dtype=torch.bool)  # Mask to keep track of selected points\n",
    "\n",
    "    initial_seed_index = torch.randint(0, num_total_points, (1,))\n",
    "    selected_indices.append(initial_seed_index.item())\n",
    "    selected_mask[selected_indices[-1]] = True\n",
    "\n",
    "    for _ in range(num_points):\n",
    "        current_points = points[selected_indices]\n",
    "        distances = torch.min(torch.stack([compute_distances(points, p) for p in current_points]), dim=0).values\n",
    "\n",
    "        # Exclude distances of already selected points\n",
    "        distances[selected_mask] = float('-inf')\n",
    "\n",
    "        farthest_index = torch.argmax(distances)\n",
    "        selected_indices.append(farthest_index.item())\n",
    "        selected_mask[selected_indices[-1]] = True\n",
    "\n",
    "    return torch.tensor(selected_indices)\n",
    "\n",
    "def fps_weighted(points,num_points, curvature_values, curvature_scalar):\n",
    "    \"\"\"\n",
    "    Perform weighted farthest point sampling based on both distance and curvature.\n",
    "    The curvature scalar sets the weighting for the curvature over distance.\n",
    "    Higher curvature scalar = more weight to curvature, less weight to distance.\n",
    "\n",
    "    :param points: Tensor of shape [N, 3] representing the point cloud.\n",
    "    :param curvature_values: Tensor of shape [N] containing curvature values for each point.\n",
    "    :param num_points: Number of points to sample.\n",
    "    :param curvature_scalar: A scalar weight for the curvature values.\n",
    "    :return: 1D tensor of indices representing the selected points.\n",
    "    \"\"\"\n",
    "    num_total_points = points.shape[0]\n",
    "    selected_indices = []\n",
    "    selected_mask = torch.zeros(num_total_points, dtype=torch.bool)\n",
    "\n",
    "    initial_seed_index = torch.randint(0, num_total_points, (1,))\n",
    "    selected_indices.append(initial_seed_index.item())\n",
    "    selected_mask[selected_indices[-1]] = True\n",
    "    for _ in range(num_points):\n",
    "        current_points = points[selected_indices]\n",
    "\n",
    "        distances = torch.min(torch.stack([compute_distances(points, p) for p in current_points]), dim=0).values\n",
    "        distances[selected_mask] = float('-inf')\n",
    "\n",
    "        # curvatures = curvature_values[selected_indices]\n",
    "        weighted_scores = distances + (curvature_values * curvature_scalar)\n",
    "        selected_idx = torch.argmax(weighted_scores)\n",
    "        selected_indices.append(selected_idx.item())\n",
    "        selected_mask[selected_indices[-1]] = True\n",
    "\n",
    "        # fig = plt.figure()\n",
    "        # ax = fig.add_subplot(111, projection='3d')\n",
    "        # scatter1 = ax.scatter(points[:,0], points[:,1], points[:,2], marker='.',alpha=.1,color=\"grey\")\n",
    "        # scatter2 = ax.scatter(points[selected_indices,0], points[selected_indices,1], points[selected_indices,2], marker='o',alpha=1,color=\"orange\")\n",
    "        # scatter3 = ax.scatter(points[selected_idx,0], points[selected_idx,1], points[selected_idx,2], marker='X',s=20,alpha=1,color=\"red\")\n",
    "        # ax.set_xlabel('X')\n",
    "        # ax.set_ylabel('Y')\n",
    "        # ax.set_zlabel('Z')\n",
    "        # ax.view_init(elev=30, azim=340)\n",
    "        # plt.show(block=True)\n",
    "        # if i>10:\n",
    "        #     raise KeyboardInterrupt\n",
    "\n",
    "    return torch.tensor(selected_indices)\n",
    "\n",
    "def fps_top_n(points, num_points, n, curvature_values):\n",
    "    \"\"\"\n",
    "    Perform farthest point sampling by selecting the n farthest points based on distance and\n",
    "    then choosing the one with the highest curvature value among those n points.\n",
    "\n",
    "    :param points: Tensor of shape [N, 3] representing the point cloud.\n",
    "    :param num_points: Number of points to sample.\n",
    "    :param n: Number of points to consider for curvature-based selection.\n",
    "    :param curvature_values: Tensor of shape [N] containing curvature values for each point.\n",
    "    :return: 1D tensor of indices representing the selected points.\n",
    "    \"\"\"\n",
    "    num_total_points = points.shape[0]\n",
    "    selected_indices = []\n",
    "    selected_mask = torch.zeros(num_total_points, dtype=torch.bool)\n",
    "\n",
    "\n",
    "    initial_seed_index = torch.randint(0, num_total_points, (1,))\n",
    "    selected_indices.append(initial_seed_index.item())\n",
    "    selected_mask[selected_indices[-1]] = True\n",
    "    for _ in range(num_points):\n",
    "        current_points = points[selected_indices]\n",
    "        distances = torch.min(torch.stack([compute_distances(points, p) for p in current_points]), dim=0).values\n",
    "        farthest_indices = torch.topk(distances.flatten(), n).indices\n",
    "\n",
    "        distances[selected_mask] = float('-inf')\n",
    "\n",
    "        res = torch.argmax(curvature_values[farthest_indices])\n",
    "        selected_index = farthest_indices[res.item()]\n",
    "\n",
    "        selected_indices.append(selected_index.item())\n",
    "        selected_mask[selected_indices[-1]] = True\n",
    "        # fig = plt.figure()\n",
    "        # ax = fig.add_subplot(111, projection='3d')\n",
    "        # scatter1 = ax.scatter(points[:,0], points[:,1], points[:,2], marker='.',alpha=.1,color=\"grey\")\n",
    "        # scatter2 = ax.scatter(points[selected_indices,0], points[selected_indices,1], points[selected_indices,2], marker='o',alpha=1,color=\"orange\")\n",
    "        # scatter3 = ax.scatter(points[farthest_indices,0], points[farthest_indices,1], points[farthest_indices,2], marker='o',alpha=1,color=\"royalblue\")\n",
    "        # scatter4 = ax.scatter(points[selected_index,0], points[selected_index,1], points[selected_index,2], marker='X',s=20,alpha=1,color=\"red\")\n",
    "        # ax.set_xlabel('X')\n",
    "        # ax.set_ylabel('Y')\n",
    "        # ax.set_zlabel('Z')\n",
    "        # # rotate_plot()\n",
    "        # ax.view_init(elev=30, azim=340)\n",
    "        # plt.show(block=True)\n",
    "\n",
    "\n",
    "\n",
    "\n",
    "    return torch.tensor(selected_indices)"
   ],
   "metadata": {
    "collapsed": false,
    "pycharm": {
     "name": "#%%\n"
    }
   }
  },
  {
   "cell_type": "code",
   "execution_count": 75,
   "outputs": [],
   "source": [
    "# selected_indices = farthest_point_sampling(cloud, desired_num_points)"
   ],
   "metadata": {
    "collapsed": false,
    "pycharm": {
     "name": "#%%\n"
    }
   }
  },
  {
   "cell_type": "code",
   "execution_count": null,
   "outputs": [],
   "source": [
    "curve_scale = 0\n",
    "selected_indices = fps_weighted(cloud, desired_num_points, curvatures, curve_scale)\n"
   ],
   "metadata": {
    "collapsed": false,
    "pycharm": {
     "name": "#%%\n",
     "is_executing": true
    }
   }
  },
  {
   "cell_type": "code",
   "execution_count": 52,
   "outputs": [],
   "source": [
    "# selected_indices_curve200 = fps_top_n(cloud, desired_num_points,10, curvatures)\n",
    "# selected_indices_curve10 = fps_top_n(cloud, num_sampled_points, 10,curvatures)"
   ],
   "metadata": {
    "collapsed": false,
    "pycharm": {
     "name": "#%%\n"
    }
   }
  },
  {
   "cell_type": "code",
   "execution_count": null,
   "outputs": [],
   "source": [
    "%matplotlib qt\n",
    "point_cloud_np = cloud.numpy()\n",
    "selected_points_np = cloud[selected_indices].numpy()\n",
    "\n",
    "# Plot the point clouds\n",
    "fig = plt.figure()\n",
    "ax = fig.add_subplot(111, projection='3d')\n",
    "\n",
    "# Plot the original point cloud in blue\n",
    "# ax.scatter(point_cloud_np[:, 0], point_cloud_np[:, 1], point_cloud_np[:, 2], c='blue', s=5,alpha=0, label='Original Points')\n",
    "\n",
    "# Plot the selected indices in red\n",
    "# ax.scatter(selected_points_np[:, 0], selected_points_np[:, 1], selected_points_np[:, 2], c='grey', label='Selected Points')\n",
    "# ax.scatter(cloud[selected_indices_curve10, 0], cloud[selected_indices_curve10, 1], cloud[selected_indices_curve10, 2], c='green', s=20, label='Selected Points')\n",
    "ax.scatter(cloud[selected_indices_curve200, 0], cloud[selected_indices_curve200, 1], cloud[selected_indices_curve200, 2], c='orange', s=2, label='Selected Points')\n",
    "\n",
    "ax.set_xlabel('X')\n",
    "ax.set_ylabel('Y')\n",
    "ax.set_zlabel('Z')\n",
    "ax.set_title('Original Point Cloud and Selected Indices')\n",
    "ax.legend()\n",
    "\n",
    "plt.show()"
   ],
   "metadata": {
    "collapsed": false,
    "pycharm": {
     "name": "#%%\n"
    }
   }
  },
  {
   "cell_type": "code",
   "execution_count": null,
   "outputs": [],
   "source": [
    "raise KeyboardInterrupt"
   ],
   "metadata": {
    "collapsed": false,
    "pycharm": {
     "name": "#%%\n"
    }
   }
  },
  {
   "cell_type": "code",
   "execution_count": null,
   "outputs": [],
   "source": [
    "knn = principal_curvature.k_nearest_neighbors(cloud, k)\n",
    "curves = principal_curvature.principal_curvature(cloud, knn)"
   ],
   "metadata": {
    "collapsed": false,
    "pycharm": {
     "name": "#%%\n"
    }
   }
  },
  {
   "cell_type": "code",
   "execution_count": null,
   "outputs": [],
   "source": [
    "curves.numpy()"
   ],
   "metadata": {
    "collapsed": false,
    "pycharm": {
     "name": "#%%\n"
    }
   }
  },
  {
   "cell_type": "code",
   "execution_count": null,
   "outputs": [],
   "source": [
    "%matplotlib qt\n",
    "fig = plt.figure()\n",
    "ax = fig.add_subplot(111, projection='3d')\n",
    "scatter3 = ax.scatter(cloud[sample_indices,0], cloud[sample_indices,1], cloud[sample_indices,2], marker='.',alpha=.5,color=\"green\")\n",
    "ax.set_xlabel('X')\n",
    "ax.set_ylabel('Y')\n",
    "ax.set_zlabel('Z')\n",
    "# rotate_plot()\n",
    "ax.view_init(elev=30, azim=340)\n",
    "plt.show(block=True)"
   ],
   "metadata": {
    "collapsed": false,
    "pycharm": {
     "name": "#%%\n"
    }
   }
  },
  {
   "cell_type": "markdown",
   "source": [
    "#### Bias sampler in isolation"
   ],
   "metadata": {
    "collapsed": false,
    "pycharm": {
     "name": "#%% md\n"
    }
   }
  },
  {
   "cell_type": "code",
   "execution_count": null,
   "outputs": [],
   "source": [
    "\n",
    "\n",
    "des_nr_points = int(ratio*n_points)\n",
    "test_idxs = sampling_algs.bias_anyvsfps_sampler(cloud,des_nr_points,bias, func1=sampling_algs.max_curve_sampler, args1=k)"
   ],
   "metadata": {
    "collapsed": false,
    "pycharm": {
     "name": "#%%\n"
    }
   }
  },
  {
   "cell_type": "code",
   "execution_count": null,
   "outputs": [],
   "source": [
    "fig = plt.figure()\n",
    "ax = fig.add_subplot(111, projection='3d')\n",
    "scatter3 = ax.scatter(cloud[test_idxs,0], cloud[test_idxs,1], cloud[test_idxs,2], marker='.',alpha=.5,color=\"green\")\n",
    "ax.set_xlabel('X')\n",
    "ax.set_ylabel('Y')\n",
    "ax.set_zlabel('Z')\n",
    "# rotate_plot()\n",
    "ax.view_init(elev=30, azim=340)\n",
    "plt.show(block=True)"
   ],
   "metadata": {
    "collapsed": false,
    "pycharm": {
     "name": "#%%\n"
    }
   }
  },
  {
   "cell_type": "code",
   "execution_count": null,
   "outputs": [],
   "source": [
    "raise KeyboardInterrupt"
   ],
   "metadata": {
    "collapsed": false,
    "pycharm": {
     "name": "#%%\n"
    }
   }
  }
 ],
 "metadata": {
  "kernelspec": {
   "display_name": "Python 3",
   "language": "python",
   "name": "python3"
  },
  "language_info": {
   "codemirror_mode": {
    "name": "ipython",
    "version": 2
   },
   "file_extension": ".py",
   "mimetype": "text/x-python",
   "name": "python",
   "nbconvert_exporter": "python",
   "pygments_lexer": "ipython2",
   "version": "2.7.6"
  }
 },
 "nbformat": 4,
 "nbformat_minor": 0
}